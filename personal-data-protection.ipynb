{
 "cells": [
  {
   "cell_type": "markdown",
   "metadata": {
    "toc": true
   },
   "source": [
    "<h1>Содержание<span class=\"tocSkip\"></span></h1>\n",
    "<div class=\"toc\"><ul class=\"toc-item\"><li><span><a href=\"#Загрузка-данных\" data-toc-modified-id=\"Загрузка-данных-1\"><span class=\"toc-item-num\">1&nbsp;&nbsp;</span>Загрузка данных</a></span></li><li><span><a href=\"#Умножение-матриц\" data-toc-modified-id=\"Умножение-матриц-2\"><span class=\"toc-item-num\">2&nbsp;&nbsp;</span>Умножение матриц</a></span></li><li><span><a href=\"#Алгоритм-преобразования\" data-toc-modified-id=\"Алгоритм-преобразования-3\"><span class=\"toc-item-num\">3&nbsp;&nbsp;</span>Алгоритм преобразования</a></span></li><li><span><a href=\"#Проверка-алгоритма\" data-toc-modified-id=\"Проверка-алгоритма-4\"><span class=\"toc-item-num\">4&nbsp;&nbsp;</span>Проверка алгоритма</a></span></li><li><span><a href=\"#Чек-лист-проверки\" data-toc-modified-id=\"Чек-лист-проверки-5\"><span class=\"toc-item-num\">5&nbsp;&nbsp;</span>Чек-лист проверки</a></span></li></ul></div>"
   ]
  },
  {
   "cell_type": "markdown",
   "metadata": {},
   "source": [
    "# Защита персональных данных клиентов"
   ]
  },
  {
   "cell_type": "markdown",
   "metadata": {},
   "source": [
    "**Задача:** Нужно защитить данные клиентов страховой компании «Хоть потоп». Разработать такой метод преобразования данных, чтобы по ним было сложно восстановить персональную информацию. Обосновать корректность его работы.\n",
    "\n",
    "Нужно защитить данные, чтобы при преобразовании качество моделей машинного обучения не ухудшилось. Подбирать наилучшую модель не требуется."
   ]
  },
  {
   "cell_type": "markdown",
   "metadata": {},
   "source": [
    "## Загрузка данных"
   ]
  },
  {
   "cell_type": "code",
   "execution_count": 1,
   "metadata": {},
   "outputs": [],
   "source": [
    "import pandas as pd\n",
    "from sklearn.preprocessing import OneHotEncoder, StandardScaler \n",
    "from sklearn.model_selection import train_test_split, cross_validate\n",
    "from sklearn.linear_model import LinearRegression \n",
    "from sklearn.metrics import r2_score \n",
    "import numpy as np \n",
    "import seaborn as sns"
   ]
  },
  {
   "cell_type": "code",
   "execution_count": 2,
   "metadata": {},
   "outputs": [],
   "source": [
    "data = pd.read_csv('/datasets/insurance.csv')"
   ]
  },
  {
   "cell_type": "code",
   "execution_count": 3,
   "metadata": {},
   "outputs": [
    {
     "data": {
      "text/html": [
       "<div>\n",
       "<style scoped>\n",
       "    .dataframe tbody tr th:only-of-type {\n",
       "        vertical-align: middle;\n",
       "    }\n",
       "\n",
       "    .dataframe tbody tr th {\n",
       "        vertical-align: top;\n",
       "    }\n",
       "\n",
       "    .dataframe thead th {\n",
       "        text-align: right;\n",
       "    }\n",
       "</style>\n",
       "<table border=\"1\" class=\"dataframe\">\n",
       "  <thead>\n",
       "    <tr style=\"text-align: right;\">\n",
       "      <th></th>\n",
       "      <th>Пол</th>\n",
       "      <th>Возраст</th>\n",
       "      <th>Зарплата</th>\n",
       "      <th>Члены семьи</th>\n",
       "      <th>Страховые выплаты</th>\n",
       "    </tr>\n",
       "  </thead>\n",
       "  <tbody>\n",
       "    <tr>\n",
       "      <th>0</th>\n",
       "      <td>1</td>\n",
       "      <td>41.0</td>\n",
       "      <td>49600.0</td>\n",
       "      <td>1</td>\n",
       "      <td>0</td>\n",
       "    </tr>\n",
       "    <tr>\n",
       "      <th>1</th>\n",
       "      <td>0</td>\n",
       "      <td>46.0</td>\n",
       "      <td>38000.0</td>\n",
       "      <td>1</td>\n",
       "      <td>1</td>\n",
       "    </tr>\n",
       "    <tr>\n",
       "      <th>2</th>\n",
       "      <td>0</td>\n",
       "      <td>29.0</td>\n",
       "      <td>21000.0</td>\n",
       "      <td>0</td>\n",
       "      <td>0</td>\n",
       "    </tr>\n",
       "    <tr>\n",
       "      <th>3</th>\n",
       "      <td>0</td>\n",
       "      <td>21.0</td>\n",
       "      <td>41700.0</td>\n",
       "      <td>2</td>\n",
       "      <td>0</td>\n",
       "    </tr>\n",
       "    <tr>\n",
       "      <th>4</th>\n",
       "      <td>1</td>\n",
       "      <td>28.0</td>\n",
       "      <td>26100.0</td>\n",
       "      <td>0</td>\n",
       "      <td>0</td>\n",
       "    </tr>\n",
       "  </tbody>\n",
       "</table>\n",
       "</div>"
      ],
      "text/plain": [
       "   Пол  Возраст  Зарплата  Члены семьи  Страховые выплаты\n",
       "0    1     41.0   49600.0            1                  0\n",
       "1    0     46.0   38000.0            1                  1\n",
       "2    0     29.0   21000.0            0                  0\n",
       "3    0     21.0   41700.0            2                  0\n",
       "4    1     28.0   26100.0            0                  0"
      ]
     },
     "execution_count": 3,
     "metadata": {},
     "output_type": "execute_result"
    }
   ],
   "source": [
    "data.head()"
   ]
  },
  {
   "cell_type": "code",
   "execution_count": 4,
   "metadata": {},
   "outputs": [
    {
     "name": "stdout",
     "output_type": "stream",
     "text": [
      "<class 'pandas.core.frame.DataFrame'>\n",
      "RangeIndex: 5000 entries, 0 to 4999\n",
      "Data columns (total 5 columns):\n",
      " #   Column             Non-Null Count  Dtype  \n",
      "---  ------             --------------  -----  \n",
      " 0   Пол                5000 non-null   int64  \n",
      " 1   Возраст            5000 non-null   float64\n",
      " 2   Зарплата           5000 non-null   float64\n",
      " 3   Члены семьи        5000 non-null   int64  \n",
      " 4   Страховые выплаты  5000 non-null   int64  \n",
      "dtypes: float64(2), int64(3)\n",
      "memory usage: 195.4 KB\n"
     ]
    }
   ],
   "source": [
    "data.info()"
   ]
  },
  {
   "cell_type": "code",
   "execution_count": 5,
   "metadata": {},
   "outputs": [
    {
     "data": {
      "text/html": [
       "<div>\n",
       "<style scoped>\n",
       "    .dataframe tbody tr th:only-of-type {\n",
       "        vertical-align: middle;\n",
       "    }\n",
       "\n",
       "    .dataframe tbody tr th {\n",
       "        vertical-align: top;\n",
       "    }\n",
       "\n",
       "    .dataframe thead th {\n",
       "        text-align: right;\n",
       "    }\n",
       "</style>\n",
       "<table border=\"1\" class=\"dataframe\">\n",
       "  <thead>\n",
       "    <tr style=\"text-align: right;\">\n",
       "      <th></th>\n",
       "      <th>Пол</th>\n",
       "      <th>Возраст</th>\n",
       "      <th>Зарплата</th>\n",
       "      <th>Члены семьи</th>\n",
       "      <th>Страховые выплаты</th>\n",
       "    </tr>\n",
       "  </thead>\n",
       "  <tbody>\n",
       "    <tr>\n",
       "      <th>count</th>\n",
       "      <td>5000.000000</td>\n",
       "      <td>5000.000000</td>\n",
       "      <td>5000.000000</td>\n",
       "      <td>5000.000000</td>\n",
       "      <td>5000.000000</td>\n",
       "    </tr>\n",
       "    <tr>\n",
       "      <th>mean</th>\n",
       "      <td>0.499000</td>\n",
       "      <td>30.952800</td>\n",
       "      <td>39916.360000</td>\n",
       "      <td>1.194200</td>\n",
       "      <td>0.148000</td>\n",
       "    </tr>\n",
       "    <tr>\n",
       "      <th>std</th>\n",
       "      <td>0.500049</td>\n",
       "      <td>8.440807</td>\n",
       "      <td>9900.083569</td>\n",
       "      <td>1.091387</td>\n",
       "      <td>0.463183</td>\n",
       "    </tr>\n",
       "    <tr>\n",
       "      <th>min</th>\n",
       "      <td>0.000000</td>\n",
       "      <td>18.000000</td>\n",
       "      <td>5300.000000</td>\n",
       "      <td>0.000000</td>\n",
       "      <td>0.000000</td>\n",
       "    </tr>\n",
       "    <tr>\n",
       "      <th>25%</th>\n",
       "      <td>0.000000</td>\n",
       "      <td>24.000000</td>\n",
       "      <td>33300.000000</td>\n",
       "      <td>0.000000</td>\n",
       "      <td>0.000000</td>\n",
       "    </tr>\n",
       "    <tr>\n",
       "      <th>50%</th>\n",
       "      <td>0.000000</td>\n",
       "      <td>30.000000</td>\n",
       "      <td>40200.000000</td>\n",
       "      <td>1.000000</td>\n",
       "      <td>0.000000</td>\n",
       "    </tr>\n",
       "    <tr>\n",
       "      <th>75%</th>\n",
       "      <td>1.000000</td>\n",
       "      <td>37.000000</td>\n",
       "      <td>46600.000000</td>\n",
       "      <td>2.000000</td>\n",
       "      <td>0.000000</td>\n",
       "    </tr>\n",
       "    <tr>\n",
       "      <th>max</th>\n",
       "      <td>1.000000</td>\n",
       "      <td>65.000000</td>\n",
       "      <td>79000.000000</td>\n",
       "      <td>6.000000</td>\n",
       "      <td>5.000000</td>\n",
       "    </tr>\n",
       "  </tbody>\n",
       "</table>\n",
       "</div>"
      ],
      "text/plain": [
       "               Пол      Возраст      Зарплата  Члены семьи  Страховые выплаты\n",
       "count  5000.000000  5000.000000   5000.000000  5000.000000        5000.000000\n",
       "mean      0.499000    30.952800  39916.360000     1.194200           0.148000\n",
       "std       0.500049     8.440807   9900.083569     1.091387           0.463183\n",
       "min       0.000000    18.000000   5300.000000     0.000000           0.000000\n",
       "25%       0.000000    24.000000  33300.000000     0.000000           0.000000\n",
       "50%       0.000000    30.000000  40200.000000     1.000000           0.000000\n",
       "75%       1.000000    37.000000  46600.000000     2.000000           0.000000\n",
       "max       1.000000    65.000000  79000.000000     6.000000           5.000000"
      ]
     },
     "execution_count": 5,
     "metadata": {},
     "output_type": "execute_result"
    }
   ],
   "source": [
    "data.describe()"
   ]
  },
  {
   "cell_type": "code",
   "execution_count": 6,
   "metadata": {},
   "outputs": [
    {
     "data": {
      "text/plain": [
       "153"
      ]
     },
     "execution_count": 6,
     "metadata": {},
     "output_type": "execute_result"
    }
   ],
   "source": [
    "data.duplicated().sum()"
   ]
  },
  {
   "cell_type": "code",
   "execution_count": 7,
   "metadata": {},
   "outputs": [],
   "source": [
    "data = data.drop_duplicates() "
   ]
  },
  {
   "cell_type": "code",
   "execution_count": 8,
   "metadata": {},
   "outputs": [
    {
     "data": {
      "text/plain": [
       "<AxesSubplot:xlabel='Пол', ylabel='count'>"
      ]
     },
     "execution_count": 8,
     "metadata": {},
     "output_type": "execute_result"
    },
    {
     "data": {
      "image/png": "[encoded data removed]",
      "text/plain": [
       "<Figure size 432x288 with 1 Axes>"
      ]
     },
     "metadata": {
      "needs_background": "light"
     },
     "output_type": "display_data"
    }
   ],
   "source": [
    "# график распределения пола\n",
    "sns.countplot(x=data['Пол'])"
   ]
  },
  {
   "cell_type": "markdown",
   "metadata": {},
   "source": [
    "Оба пола представлены в равной степени."
   ]
  },
  {
   "cell_type": "code",
   "execution_count": 9,
   "metadata": {},
   "outputs": [
    {
     "data": {
      "text/plain": [
       "<AxesSubplot:xlabel='Возраст', ylabel='Count'>"
      ]
     },
     "execution_count": 9,
     "metadata": {},
     "output_type": "execute_result"
    },
    {
     "data": {
      "image/png": "[encoded data removed]",
      "text/plain": [
       "<Figure size 432x288 with 1 Axes>"
      ]
     },
     "metadata": {
      "needs_background": "light"
     },
     "output_type": "display_data"
    }
   ],
   "source": [
    "# график распределения возраста\n",
    "sns.histplot(data['Возраст'])"
   ]
  },
  {
   "cell_type": "code",
   "execution_count": 10,
   "metadata": {},
   "outputs": [
    {
     "data": {
      "text/plain": [
       "<AxesSubplot:xlabel='Возраст'>"
      ]
     },
     "execution_count": 10,
     "metadata": {},
     "output_type": "execute_result"
    },
    {
     "data": {
      "image/png": "[encoded data removed]",
      "text/plain": [
       "<Figure size 432x288 with 1 Axes>"
      ]
     },
     "metadata": {
      "needs_background": "light"
     },
     "output_type": "display_data"
    }
   ],
   "source": [
    "# график размаха возраста\n",
    "sns.boxplot(x=data['Возраст'])"
   ]
  },
  {
   "cell_type": "code",
   "execution_count": 11,
   "metadata": {},
   "outputs": [
    {
     "data": {
      "text/plain": [
       "56.5"
      ]
     },
     "execution_count": 11,
     "metadata": {},
     "output_type": "execute_result"
    }
   ],
   "source": [
    "(data['Возраст'].quantile(.75) - data['Возраст'].quantile(.25))*1.5 + data['Возраст'].quantile(.75)"
   ]
  },
  {
   "cell_type": "markdown",
   "metadata": {},
   "source": [
    "Как видно на графике, людей старше 56 лет в выборке значительно меньше."
   ]
  },
  {
   "cell_type": "code",
   "execution_count": 12,
   "metadata": {},
   "outputs": [
    {
     "data": {
      "text/plain": [
       "<AxesSubplot:xlabel='Зарплата', ylabel='Count'>"
      ]
     },
     "execution_count": 12,
     "metadata": {},
     "output_type": "execute_result"
    },
    {
     "data": {
      "image/png": "[encoded data removed]",
      "text/plain": [
       "<Figure size 432x288 with 1 Axes>"
      ]
     },
     "metadata": {
      "needs_background": "light"
     },
     "output_type": "display_data"
    }
   ],
   "source": [
    "# график распределения зарплаты\n",
    "sns.histplot(data['Зарплата'])"
   ]
  },
  {
   "cell_type": "markdown",
   "metadata": {},
   "source": [
    "Красивое нормальное распределение."
   ]
  },
  {
   "cell_type": "code",
   "execution_count": 13,
   "metadata": {},
   "outputs": [
    {
     "data": {
      "text/plain": [
       "<AxesSubplot:xlabel='Зарплата'>"
      ]
     },
     "execution_count": 13,
     "metadata": {},
     "output_type": "execute_result"
    },
    {
     "data": {
      "image/png": "[encoded data removed]",
      "text/plain": [
       "<Figure size 432x288 with 1 Axes>"
      ]
     },
     "metadata": {
      "needs_background": "light"
     },
     "output_type": "display_data"
    }
   ],
   "source": [
    "# но на всякий случай график размаха зарплаты\n",
    "sns.boxplot(x=data['Зарплата'])"
   ]
  },
  {
   "cell_type": "code",
   "execution_count": 14,
   "metadata": {},
   "outputs": [
    {
     "data": {
      "text/plain": [
       "9976.949888352843"
      ]
     },
     "execution_count": 14,
     "metadata": {},
     "output_type": "execute_result"
    }
   ],
   "source": [
    "data['Зарплата'].mean() - 3 * np.sqrt(np.var(data['Зарплата'], ddof=1))"
   ]
  },
  {
   "cell_type": "code",
   "execution_count": 15,
   "metadata": {},
   "outputs": [
    {
     "data": {
      "text/plain": [
       "69814.67379640062"
      ]
     },
     "execution_count": 15,
     "metadata": {},
     "output_type": "execute_result"
    }
   ],
   "source": [
    "data['Зарплата'].mean() + 3 * np.sqrt(np.var(data['Зарплата'], ddof=1))"
   ]
  },
  {
   "cell_type": "markdown",
   "metadata": {},
   "source": [
    "99% значений лежат в диапазоне от 9900 до 69800."
   ]
  },
  {
   "cell_type": "code",
   "execution_count": 16,
   "metadata": {},
   "outputs": [
    {
     "data": {
      "text/plain": [
       "<AxesSubplot:xlabel='Члены семьи', ylabel='Count'>"
      ]
     },
     "execution_count": 16,
     "metadata": {},
     "output_type": "execute_result"
    },
    {
     "data": {
      "image/png": "[encoded data removed]",
      "text/plain": [
       "<Figure size 432x288 with 1 Axes>"
      ]
     },
     "metadata": {
      "needs_background": "light"
     },
     "output_type": "display_data"
    }
   ],
   "source": [
    "# график распределения количества членов семьи\n",
    "sns.histplot(data['Члены семьи'])"
   ]
  },
  {
   "cell_type": "markdown",
   "metadata": {},
   "source": [
    "У большинства 0-2 членов семьи."
   ]
  },
  {
   "cell_type": "code",
   "execution_count": 17,
   "metadata": {},
   "outputs": [
    {
     "data": {
      "text/plain": [
       "<AxesSubplot:xlabel='Страховые выплаты', ylabel='Count'>"
      ]
     },
     "execution_count": 17,
     "metadata": {},
     "output_type": "execute_result"
    },
    {
     "data": {
      "image/png": "[encoded data removed]",
      "text/plain": [
       "<Figure size 432x288 with 1 Axes>"
      ]
     },
     "metadata": {
      "needs_background": "light"
     },
     "output_type": "display_data"
    }
   ],
   "source": [
    "# график распределения количества страховых выплат\n",
    "sns.histplot(data['Страховые выплаты'])"
   ]
  },
  {
   "cell_type": "markdown",
   "metadata": {},
   "source": [
    "В большинстве случаев страховые выплаты не потребовались."
   ]
  },
  {
   "cell_type": "markdown",
   "metadata": {},
   "source": [
    "## Умножение матриц"
   ]
  },
  {
   "cell_type": "markdown",
   "metadata": {},
   "source": [
    "Изменится ли качество модели линейной регрессии, если умножить признаки на обратимую матрицу?"
   ]
  },
  {
   "cell_type": "markdown",
   "metadata": {},
   "source": [
    "Обозначения:\n",
    "\n",
    "- $X$ — матрица признаков (нулевой столбец состоит из единиц)\n",
    "\n",
    "- $y$ — вектор целевого признака\n",
    "\n",
    "- $P$ — матрица, на которую умножаются признаки\n",
    "\n",
    "- $w$ — вектор весов линейной регрессии (нулевой элемент равен сдвигу)"
   ]
  },
  {
   "cell_type": "markdown",
   "metadata": {},
   "source": [
    "Предсказания:\n",
    "\n",
    "$$\n",
    "a = Xw\n",
    "$$\n",
    "\n",
    "Задача обучения:\n",
    "\n",
    "$$\n",
    "w = \\arg\\min_w MSE(Xw, y)\n",
    "$$\n",
    "\n",
    "Формула обучения:\n",
    "\n",
    "$$\n",
    "w = (X^T X)^{-1} X^T y\n",
    "$$\n"
   ]
  },
  {
   "cell_type": "markdown",
   "metadata": {},
   "source": [
    "**Ответ:** Качество линейной регрессии не должно измениться при умножении признаков на обратимую матрицу."
   ]
  },
  {
   "cell_type": "markdown",
   "metadata": {},
   "source": [
    "**Обоснование:**"
   ]
  },
  {
   "cell_type": "markdown",
   "metadata": {},
   "source": [
    "Матрицу признаков Х умножаем на квадратную случайную обратимую матрицу Р. Полученную матрицу обозначим как Y и подставим в формулу нахождения предсказания:"
   ]
  },
  {
   "cell_type": "markdown",
   "metadata": {},
   "source": [
    "$$\n",
    "a = Yw\n",
    "$$"
   ]
  },
  {
   "cell_type": "markdown",
   "metadata": {},
   "source": [
    "Также подставим вместо w формулу нахождения веса:"
   ]
  },
  {
   "cell_type": "markdown",
   "metadata": {},
   "source": [
    "$$\n",
    "a = Y (Y^T Y)^{-1} Y^T y\n",
    "$$"
   ]
  },
  {
   "cell_type": "markdown",
   "metadata": {},
   "source": [
    "Т.к. Y = XP, подставим в формулу это значение:"
   ]
  },
  {
   "cell_type": "markdown",
   "metadata": {},
   "source": [
    "$$\n",
    "a = (XP) ((XP)^T (XP))^{-1} (XP)^T y\n",
    "$$"
   ]
  },
  {
   "cell_type": "markdown",
   "metadata": {},
   "source": [
    "У матриц есть следующие свойства:"
   ]
  },
  {
   "cell_type": "markdown",
   "metadata": {},
   "source": [
    "$$\n",
    "(AB)^T = B^T A^T\n",
    "$$"
   ]
  },
  {
   "cell_type": "markdown",
   "metadata": {},
   "source": [
    "И только для квадратных:"
   ]
  },
  {
   "cell_type": "markdown",
   "metadata": {},
   "source": [
    "$$\n",
    "(AB)^{-1} = B^{-1} A^{-1} \n",
    "$$"
   ]
  },
  {
   "cell_type": "markdown",
   "metadata": {},
   "source": [
    "Раскроем скобки, воспользовавшись свойствами матриц:"
   ]
  },
  {
   "cell_type": "markdown",
   "metadata": {},
   "source": [
    "$$\n",
    "a = (XP)(P^T (X^T X) P)^{-1} P^T X^T y = XP P^{-1} (X^T X)^{-1} (P^T)^{-1} P^T X^T y \n",
    "$$"
   ]
  },
  {
   "cell_type": "markdown",
   "metadata": {},
   "source": [
    "Умножение матрицы на обратную матрицу даёт единичную матрицу, а умножение любой матрицы на единичную даёт исходную матрицу. Согласно этим свойствам, сократим полученное выражение и получим:"
   ]
  },
  {
   "cell_type": "markdown",
   "metadata": {},
   "source": [
    "$$\n",
    "a = X (X^T X)^{-1} X^T y = Xw\n",
    "$$"
   ]
  },
  {
   "cell_type": "markdown",
   "metadata": {},
   "source": [
    "Таким образом, получили исходную формулу."
   ]
  },
  {
   "cell_type": "markdown",
   "metadata": {},
   "source": [
    "## Алгоритм преобразования"
   ]
  },
  {
   "cell_type": "markdown",
   "metadata": {},
   "source": [
    "Для того, чтобы защитить персональные данные клиентов страховой компании, разработаем алгоритм, который умножает матрицу признаков на случайную матрицу."
   ]
  },
  {
   "cell_type": "code",
   "execution_count": 18,
   "metadata": {},
   "outputs": [],
   "source": [
    "# алгоритм преобразования\n",
    "def transform_data(features_train, features_test):\n",
    "    random_matrix = np.random.normal(size=(4,4))\n",
    "    try:\n",
    "        np.linalg.inv(random_matrix)\n",
    "        transformed_train_data = pd.DataFrame(np.dot(features_train.values, random_matrix))\n",
    "        transformed_test_data = pd.DataFrame(np.dot(features_test.values, random_matrix))\n",
    "    except:\n",
    "        print('Матрица необратима, попробуйте снова')\n",
    "    \n",
    "    return transformed_train_data, transformed_test_data "
   ]
  },
  {
   "cell_type": "markdown",
   "metadata": {},
   "source": [
    "**Обоснование:** Этот алгоритм должен показать точно такое же качество модели, как и на исходных данных, согласно доказанному на предыдущем шаге свойству об умножении матриц."
   ]
  },
  {
   "cell_type": "markdown",
   "metadata": {},
   "source": [
    "## Проверка алгоритма"
   ]
  },
  {
   "cell_type": "markdown",
   "metadata": {},
   "source": [
    "Для проверки алгоритма обучим модель линейной регрессии на исходных данных и на преобразованных и сравним качество модели метрикой R2."
   ]
  },
  {
   "cell_type": "code",
   "execution_count": 19,
   "metadata": {},
   "outputs": [],
   "source": [
    "# разделим выборку на обучающие и целевой признаки\n",
    "features_train = data.drop('Страховые выплаты', axis=1)\n",
    "target_train = data['Страховые выплаты']"
   ]
  },
  {
   "cell_type": "code",
   "execution_count": 20,
   "metadata": {},
   "outputs": [
    {
     "name": "stdout",
     "output_type": "stream",
     "text": [
      "(4847, 4)\n",
      "(4847,)\n"
     ]
    }
   ],
   "source": [
    "print(features_train.shape)\n",
    "print(target_train.shape)"
   ]
  },
  {
   "cell_type": "code",
   "execution_count": 21,
   "metadata": {},
   "outputs": [],
   "source": [
    "# разделим выборку на обучающую и тестовую\n",
    "X_train, X_test, y_train, y_test = train_test_split(features_train, target_train, test_size=.2, random_state=12345) "
   ]
  },
  {
   "cell_type": "code",
   "execution_count": 22,
   "metadata": {},
   "outputs": [
    {
     "name": "stdout",
     "output_type": "stream",
     "text": [
      "(3877, 4)\n",
      "(970, 4)\n",
      "(3877,)\n",
      "(970,)\n"
     ]
    }
   ],
   "source": [
    "print(X_train.shape)\n",
    "print(X_test.shape)\n",
    "print(y_train.shape)\n",
    "print(y_test.shape)"
   ]
  },
  {
   "cell_type": "markdown",
   "metadata": {},
   "source": [
    "Для линейной регрессии необходимо закодировать категориальные признаки и стандартизировать числовые."
   ]
  },
  {
   "cell_type": "code",
   "execution_count": 23,
   "metadata": {},
   "outputs": [],
   "source": [
    "# выделим категориальные и числовые признаки\n",
    "categorical = ['Пол']\n",
    "numeric = ['Возраст', 'Зарплата', 'Члены семьи']"
   ]
  },
  {
   "cell_type": "code",
   "execution_count": 30,
   "metadata": {},
   "outputs": [
    {
     "data": {
      "text/plain": [
       "OneHotEncoder(drop='first', sparse=False)"
      ]
     },
     "execution_count": 30,
     "metadata": {},
     "output_type": "execute_result"
    }
   ],
   "source": [
    "# инициализация кодировщика\n",
    "encoder = OneHotEncoder(drop='first', sparse=False)\n",
    "encoder.fit(X_train[categorical])"
   ]
  },
  {
   "cell_type": "code",
   "execution_count": 31,
   "metadata": {},
   "outputs": [],
   "source": [
    "# прямое кодирование кат.признаков на обучающей выборке\n",
    "X_train_encoded = pd.DataFrame(\n",
    "    encoder.transform(X_train[categorical]),\n",
    "  #  columns = encoder.get_feature_names_out(categorical)\n",
    ")"
   ]
  },
  {
   "cell_type": "code",
   "execution_count": 38,
   "metadata": {},
   "outputs": [
    {
     "data": {
      "text/html": [
       "<div>\n",
       "<style scoped>\n",
       "    .dataframe tbody tr th:only-of-type {\n",
       "        vertical-align: middle;\n",
       "    }\n",
       "\n",
       "    .dataframe tbody tr th {\n",
       "        vertical-align: top;\n",
       "    }\n",
       "\n",
       "    .dataframe thead th {\n",
       "        text-align: right;\n",
       "    }\n",
       "</style>\n",
       "<table border=\"1\" class=\"dataframe\">\n",
       "  <thead>\n",
       "    <tr style=\"text-align: right;\">\n",
       "      <th></th>\n",
       "      <th>0</th>\n",
       "    </tr>\n",
       "  </thead>\n",
       "  <tbody>\n",
       "    <tr>\n",
       "      <th>0</th>\n",
       "      <td>0.0</td>\n",
       "    </tr>\n",
       "    <tr>\n",
       "      <th>1</th>\n",
       "      <td>0.0</td>\n",
       "    </tr>\n",
       "    <tr>\n",
       "      <th>2</th>\n",
       "      <td>1.0</td>\n",
       "    </tr>\n",
       "    <tr>\n",
       "      <th>3</th>\n",
       "      <td>1.0</td>\n",
       "    </tr>\n",
       "    <tr>\n",
       "      <th>4</th>\n",
       "      <td>0.0</td>\n",
       "    </tr>\n",
       "    <tr>\n",
       "      <th>...</th>\n",
       "      <td>...</td>\n",
       "    </tr>\n",
       "    <tr>\n",
       "      <th>3872</th>\n",
       "      <td>1.0</td>\n",
       "    </tr>\n",
       "    <tr>\n",
       "      <th>3873</th>\n",
       "      <td>0.0</td>\n",
       "    </tr>\n",
       "    <tr>\n",
       "      <th>3874</th>\n",
       "      <td>1.0</td>\n",
       "    </tr>\n",
       "    <tr>\n",
       "      <th>3875</th>\n",
       "      <td>1.0</td>\n",
       "    </tr>\n",
       "    <tr>\n",
       "      <th>3876</th>\n",
       "      <td>0.0</td>\n",
       "    </tr>\n",
       "  </tbody>\n",
       "</table>\n",
       "<p>3877 rows × 1 columns</p>\n",
       "</div>"
      ],
      "text/plain": [
       "        0\n",
       "0     0.0\n",
       "1     0.0\n",
       "2     1.0\n",
       "3     1.0\n",
       "4     0.0\n",
       "...   ...\n",
       "3872  1.0\n",
       "3873  0.0\n",
       "3874  1.0\n",
       "3875  1.0\n",
       "3876  0.0\n",
       "\n",
       "[3877 rows x 1 columns]"
      ]
     },
     "execution_count": 38,
     "metadata": {},
     "output_type": "execute_result"
    }
   ],
   "source": [
    "X_train_encoded"
   ]
  },
  {
   "cell_type": "code",
   "execution_count": null,
   "metadata": {},
   "outputs": [],
   "source": [
    "# прямое кодирование кат.признаков на тестовой выборке\n",
    "X_test_encoded = pd.DataFrame(\n",
    "    encoder.transform(X_test[categorical]),\n",
    "    columns = encoder.get_feature_names_out(categorical)\n",
    ")"
   ]
  },
  {
   "cell_type": "code",
   "execution_count": 33,
   "metadata": {},
   "outputs": [
    {
     "data": {
      "text/plain": [
       "StandardScaler()"
      ]
     },
     "execution_count": 33,
     "metadata": {},
     "output_type": "execute_result"
    }
   ],
   "source": [
    "# обучение scaler\n",
    "scaler = StandardScaler()\n",
    "scaler.fit(X_train[numeric])"
   ]
  },
  {
   "cell_type": "code",
   "execution_count": 34,
   "metadata": {},
   "outputs": [],
   "source": [
    "# масштабирование числовых признаков на обучающей выборке\n",
    "X_train_scaled = pd.DataFrame(\n",
    "    scaler.transform(X_train[numeric]),\n",
    "  #  columns = scaler.get_feature_names_out(numeric)\n",
    ")"
   ]
  },
  {
   "cell_type": "code",
   "execution_count": 35,
   "metadata": {},
   "outputs": [],
   "source": [
    "# масштабирование числовых признаков на тестовой выборке\n",
    "X_test_scaled = pd.DataFrame(\n",
    "    scaler.transform(X_test[numeric]),\n",
    "  #  columns = scaler.get_feature_names_out(numeric)\n",
    ") "
   ]
  },
  {
   "cell_type": "code",
   "execution_count": null,
   "metadata": {},
   "outputs": [],
   "source": [
    "# объединение преобразованных признаков на обучающей выборке\n",
    "X_train_transformed = X_train_encoded.join(X_train_scaled)\n",
    "X_train_transformed = X_train_transformed.rename(columns={'Пол_1': 'Пол'})\n",
    "X_train_transformed.head() "
   ]
  },
  {
   "cell_type": "code",
   "execution_count": null,
   "metadata": {},
   "outputs": [],
   "source": [
    "# объединение преобразованных признаков на тестовой выборке\n",
    "X_test_transformed = X_test_encoded.join(X_test_scaled)\n",
    "X_test_transformed = X_test_transformed.rename(columns={'Пол_1': 'Пол'})\n",
    "X_test_transformed.head()  "
   ]
  },
  {
   "cell_type": "code",
   "execution_count": 129,
   "metadata": {},
   "outputs": [],
   "source": [
    "# инициализация модели линейной регрессии\n",
    "linreg = LinearRegression()"
   ]
  },
  {
   "cell_type": "code",
   "execution_count": 130,
   "metadata": {},
   "outputs": [],
   "source": [
    "scores = cross_validate(linreg, X_train_transformed, y_train, cv=5, scoring='r2')"
   ]
  },
  {
   "cell_type": "code",
   "execution_count": 131,
   "metadata": {},
   "outputs": [
    {
     "data": {
      "text/plain": [
       "0.4304972994250898"
      ]
     },
     "execution_count": 131,
     "metadata": {},
     "output_type": "execute_result"
    }
   ],
   "source": [
    "scores['test_score'].mean()"
   ]
  },
  {
   "cell_type": "code",
   "execution_count": 132,
   "metadata": {},
   "outputs": [
    {
     "data": {
      "text/html": [
       "<style>#sk-container-id-16 {color: black;background-color: white;}#sk-container-id-16 pre{padding: 0;}#sk-container-id-16 div.sk-toggleable {background-color: white;}#sk-container-id-16 label.sk-toggleable__label {cursor: pointer;display: block;width: 100%;margin-bottom: 0;padding: 0.3em;box-sizing: border-box;text-align: center;}#sk-container-id-16 label.sk-toggleable__label-arrow:before {content: \"▸\";float: left;margin-right: 0.25em;color: #696969;}#sk-container-id-16 label.sk-toggleable__label-arrow:hover:before {color: black;}#sk-container-id-16 div.sk-estimator:hover label.sk-toggleable__label-arrow:before {color: black;}#sk-container-id-16 div.sk-toggleable__content {max-height: 0;max-width: 0;overflow: hidden;text-align: left;background-color: #f0f8ff;}#sk-container-id-16 div.sk-toggleable__content pre {margin: 0.2em;color: black;border-radius: 0.25em;background-color: #f0f8ff;}#sk-container-id-16 input.sk-toggleable__control:checked~div.sk-toggleable__content {max-height: 200px;max-width: 100%;overflow: auto;}#sk-container-id-16 input.sk-toggleable__control:checked~label.sk-toggleable__label-arrow:before {content: \"▾\";}#sk-container-id-16 div.sk-estimator input.sk-toggleable__control:checked~label.sk-toggleable__label {background-color: #d4ebff;}#sk-container-id-16 div.sk-label input.sk-toggleable__control:checked~label.sk-toggleable__label {background-color: #d4ebff;}#sk-container-id-16 input.sk-hidden--visually {border: 0;clip: rect(1px 1px 1px 1px);clip: rect(1px, 1px, 1px, 1px);height: 1px;margin: -1px;overflow: hidden;padding: 0;position: absolute;width: 1px;}#sk-container-id-16 div.sk-estimator {font-family: monospace;background-color: #f0f8ff;border: 1px dotted black;border-radius: 0.25em;box-sizing: border-box;margin-bottom: 0.5em;}#sk-container-id-16 div.sk-estimator:hover {background-color: #d4ebff;}#sk-container-id-16 div.sk-parallel-item::after {content: \"\";width: 100%;border-bottom: 1px solid gray;flex-grow: 1;}#sk-container-id-16 div.sk-label:hover label.sk-toggleable__label {background-color: #d4ebff;}#sk-container-id-16 div.sk-serial::before {content: \"\";position: absolute;border-left: 1px solid gray;box-sizing: border-box;top: 0;bottom: 0;left: 50%;z-index: 0;}#sk-container-id-16 div.sk-serial {display: flex;flex-direction: column;align-items: center;background-color: white;padding-right: 0.2em;padding-left: 0.2em;position: relative;}#sk-container-id-16 div.sk-item {position: relative;z-index: 1;}#sk-container-id-16 div.sk-parallel {display: flex;align-items: stretch;justify-content: center;background-color: white;position: relative;}#sk-container-id-16 div.sk-item::before, #sk-container-id-16 div.sk-parallel-item::before {content: \"\";position: absolute;border-left: 1px solid gray;box-sizing: border-box;top: 0;bottom: 0;left: 50%;z-index: -1;}#sk-container-id-16 div.sk-parallel-item {display: flex;flex-direction: column;z-index: 1;position: relative;background-color: white;}#sk-container-id-16 div.sk-parallel-item:first-child::after {align-self: flex-end;width: 50%;}#sk-container-id-16 div.sk-parallel-item:last-child::after {align-self: flex-start;width: 50%;}#sk-container-id-16 div.sk-parallel-item:only-child::after {width: 0;}#sk-container-id-16 div.sk-dashed-wrapped {border: 1px dashed gray;margin: 0 0.4em 0.5em 0.4em;box-sizing: border-box;padding-bottom: 0.4em;background-color: white;}#sk-container-id-16 div.sk-label label {font-family: monospace;font-weight: bold;display: inline-block;line-height: 1.2em;}#sk-container-id-16 div.sk-label-container {text-align: center;}#sk-container-id-16 div.sk-container {/* jupyter's `normalize.less` sets `[hidden] { display: none; }` but bootstrap.min.css set `[hidden] { display: none !important; }` so we also need the `!important` here to be able to override the default hidden behavior on the sphinx rendered scikit-learn.org. See: https://github.com/scikit-learn/scikit-learn/issues/21755 */display: inline-block !important;position: relative;}#sk-container-id-16 div.sk-text-repr-fallback {display: none;}</style><div id=\"sk-container-id-16\" class=\"sk-top-container\"><div class=\"sk-text-repr-fallback\"><pre>LinearRegression()</pre><b>In a Jupyter environment, please rerun this cell to show the HTML representation or trust the notebook. <br />On GitHub, the HTML representation is unable to render, please try loading this page with nbviewer.org.</b></div><div class=\"sk-container\" hidden><div class=\"sk-item\"><div class=\"sk-estimator sk-toggleable\"><input class=\"sk-toggleable__control sk-hidden--visually\" id=\"sk-estimator-id-16\" type=\"checkbox\" checked><label for=\"sk-estimator-id-16\" class=\"sk-toggleable__label sk-toggleable__label-arrow\">LinearRegression</label><div class=\"sk-toggleable__content\"><pre>LinearRegression()</pre></div></div></div></div></div>"
      ],
      "text/plain": [
       "LinearRegression()"
      ]
     },
     "execution_count": 132,
     "metadata": {},
     "output_type": "execute_result"
    }
   ],
   "source": [
    "linreg.fit(X_train_transformed, y_train)"
   ]
  },
  {
   "cell_type": "code",
   "execution_count": 133,
   "metadata": {},
   "outputs": [],
   "source": [
    "y_pred = linreg.predict(X_test_transformed)"
   ]
  },
  {
   "cell_type": "code",
   "execution_count": 134,
   "metadata": {},
   "outputs": [
    {
     "data": {
      "text/plain": [
       "0.4160549216151216"
      ]
     },
     "execution_count": 134,
     "metadata": {},
     "output_type": "execute_result"
    }
   ],
   "source": [
    "r2_score(y_test, y_pred) "
   ]
  },
  {
   "cell_type": "markdown",
   "metadata": {},
   "source": [
    "Теперь обучим модель на преобразованных данных."
   ]
  },
  {
   "cell_type": "code",
   "execution_count": 135,
   "metadata": {},
   "outputs": [],
   "source": [
    "X_train_new, X_test_new = transform_data(X_train_transformed, X_test_transformed)"
   ]
  },
  {
   "cell_type": "code",
   "execution_count": 136,
   "metadata": {},
   "outputs": [
    {
     "data": {
      "text/html": [
       "<div>\n",
       "<style scoped>\n",
       "    .dataframe tbody tr th:only-of-type {\n",
       "        vertical-align: middle;\n",
       "    }\n",
       "\n",
       "    .dataframe tbody tr th {\n",
       "        vertical-align: top;\n",
       "    }\n",
       "\n",
       "    .dataframe thead th {\n",
       "        text-align: right;\n",
       "    }\n",
       "</style>\n",
       "<table border=\"1\" class=\"dataframe\">\n",
       "  <thead>\n",
       "    <tr style=\"text-align: right;\">\n",
       "      <th></th>\n",
       "      <th>0</th>\n",
       "      <th>1</th>\n",
       "      <th>2</th>\n",
       "      <th>3</th>\n",
       "    </tr>\n",
       "  </thead>\n",
       "  <tbody>\n",
       "    <tr>\n",
       "      <th>0</th>\n",
       "      <td>1.912928</td>\n",
       "      <td>1.580611</td>\n",
       "      <td>-0.543088</td>\n",
       "      <td>-0.865169</td>\n",
       "    </tr>\n",
       "    <tr>\n",
       "      <th>1</th>\n",
       "      <td>-0.883808</td>\n",
       "      <td>-0.984228</td>\n",
       "      <td>0.412307</td>\n",
       "      <td>1.575855</td>\n",
       "    </tr>\n",
       "    <tr>\n",
       "      <th>2</th>\n",
       "      <td>-0.064077</td>\n",
       "      <td>-0.908865</td>\n",
       "      <td>0.408882</td>\n",
       "      <td>2.933352</td>\n",
       "    </tr>\n",
       "    <tr>\n",
       "      <th>3</th>\n",
       "      <td>0.905312</td>\n",
       "      <td>2.412909</td>\n",
       "      <td>1.457953</td>\n",
       "      <td>-0.571088</td>\n",
       "    </tr>\n",
       "    <tr>\n",
       "      <th>4</th>\n",
       "      <td>-0.765126</td>\n",
       "      <td>-1.832191</td>\n",
       "      <td>-0.655229</td>\n",
       "      <td>1.093537</td>\n",
       "    </tr>\n",
       "  </tbody>\n",
       "</table>\n",
       "</div>"
      ],
      "text/plain": [
       "          0         1         2         3\n",
       "0  1.912928  1.580611 -0.543088 -0.865169\n",
       "1 -0.883808 -0.984228  0.412307  1.575855\n",
       "2 -0.064077 -0.908865  0.408882  2.933352\n",
       "3  0.905312  2.412909  1.457953 -0.571088\n",
       "4 -0.765126 -1.832191 -0.655229  1.093537"
      ]
     },
     "execution_count": 136,
     "metadata": {},
     "output_type": "execute_result"
    }
   ],
   "source": [
    "X_train_new.head() "
   ]
  },
  {
   "cell_type": "code",
   "execution_count": 137,
   "metadata": {},
   "outputs": [
    {
     "data": {
      "text/html": [
       "<style>#sk-container-id-17 {color: black;background-color: white;}#sk-container-id-17 pre{padding: 0;}#sk-container-id-17 div.sk-toggleable {background-color: white;}#sk-container-id-17 label.sk-toggleable__label {cursor: pointer;display: block;width: 100%;margin-bottom: 0;padding: 0.3em;box-sizing: border-box;text-align: center;}#sk-container-id-17 label.sk-toggleable__label-arrow:before {content: \"▸\";float: left;margin-right: 0.25em;color: #696969;}#sk-container-id-17 label.sk-toggleable__label-arrow:hover:before {color: black;}#sk-container-id-17 div.sk-estimator:hover label.sk-toggleable__label-arrow:before {color: black;}#sk-container-id-17 div.sk-toggleable__content {max-height: 0;max-width: 0;overflow: hidden;text-align: left;background-color: #f0f8ff;}#sk-container-id-17 div.sk-toggleable__content pre {margin: 0.2em;color: black;border-radius: 0.25em;background-color: #f0f8ff;}#sk-container-id-17 input.sk-toggleable__control:checked~div.sk-toggleable__content {max-height: 200px;max-width: 100%;overflow: auto;}#sk-container-id-17 input.sk-toggleable__control:checked~label.sk-toggleable__label-arrow:before {content: \"▾\";}#sk-container-id-17 div.sk-estimator input.sk-toggleable__control:checked~label.sk-toggleable__label {background-color: #d4ebff;}#sk-container-id-17 div.sk-label input.sk-toggleable__control:checked~label.sk-toggleable__label {background-color: #d4ebff;}#sk-container-id-17 input.sk-hidden--visually {border: 0;clip: rect(1px 1px 1px 1px);clip: rect(1px, 1px, 1px, 1px);height: 1px;margin: -1px;overflow: hidden;padding: 0;position: absolute;width: 1px;}#sk-container-id-17 div.sk-estimator {font-family: monospace;background-color: #f0f8ff;border: 1px dotted black;border-radius: 0.25em;box-sizing: border-box;margin-bottom: 0.5em;}#sk-container-id-17 div.sk-estimator:hover {background-color: #d4ebff;}#sk-container-id-17 div.sk-parallel-item::after {content: \"\";width: 100%;border-bottom: 1px solid gray;flex-grow: 1;}#sk-container-id-17 div.sk-label:hover label.sk-toggleable__label {background-color: #d4ebff;}#sk-container-id-17 div.sk-serial::before {content: \"\";position: absolute;border-left: 1px solid gray;box-sizing: border-box;top: 0;bottom: 0;left: 50%;z-index: 0;}#sk-container-id-17 div.sk-serial {display: flex;flex-direction: column;align-items: center;background-color: white;padding-right: 0.2em;padding-left: 0.2em;position: relative;}#sk-container-id-17 div.sk-item {position: relative;z-index: 1;}#sk-container-id-17 div.sk-parallel {display: flex;align-items: stretch;justify-content: center;background-color: white;position: relative;}#sk-container-id-17 div.sk-item::before, #sk-container-id-17 div.sk-parallel-item::before {content: \"\";position: absolute;border-left: 1px solid gray;box-sizing: border-box;top: 0;bottom: 0;left: 50%;z-index: -1;}#sk-container-id-17 div.sk-parallel-item {display: flex;flex-direction: column;z-index: 1;position: relative;background-color: white;}#sk-container-id-17 div.sk-parallel-item:first-child::after {align-self: flex-end;width: 50%;}#sk-container-id-17 div.sk-parallel-item:last-child::after {align-self: flex-start;width: 50%;}#sk-container-id-17 div.sk-parallel-item:only-child::after {width: 0;}#sk-container-id-17 div.sk-dashed-wrapped {border: 1px dashed gray;margin: 0 0.4em 0.5em 0.4em;box-sizing: border-box;padding-bottom: 0.4em;background-color: white;}#sk-container-id-17 div.sk-label label {font-family: monospace;font-weight: bold;display: inline-block;line-height: 1.2em;}#sk-container-id-17 div.sk-label-container {text-align: center;}#sk-container-id-17 div.sk-container {/* jupyter's `normalize.less` sets `[hidden] { display: none; }` but bootstrap.min.css set `[hidden] { display: none !important; }` so we also need the `!important` here to be able to override the default hidden behavior on the sphinx rendered scikit-learn.org. See: https://github.com/scikit-learn/scikit-learn/issues/21755 */display: inline-block !important;position: relative;}#sk-container-id-17 div.sk-text-repr-fallback {display: none;}</style><div id=\"sk-container-id-17\" class=\"sk-top-container\"><div class=\"sk-text-repr-fallback\"><pre>LinearRegression()</pre><b>In a Jupyter environment, please rerun this cell to show the HTML representation or trust the notebook. <br />On GitHub, the HTML representation is unable to render, please try loading this page with nbviewer.org.</b></div><div class=\"sk-container\" hidden><div class=\"sk-item\"><div class=\"sk-estimator sk-toggleable\"><input class=\"sk-toggleable__control sk-hidden--visually\" id=\"sk-estimator-id-17\" type=\"checkbox\" checked><label for=\"sk-estimator-id-17\" class=\"sk-toggleable__label sk-toggleable__label-arrow\">LinearRegression</label><div class=\"sk-toggleable__content\"><pre>LinearRegression()</pre></div></div></div></div></div>"
      ],
      "text/plain": [
       "LinearRegression()"
      ]
     },
     "execution_count": 137,
     "metadata": {},
     "output_type": "execute_result"
    }
   ],
   "source": [
    "linreg.fit(X_train_new, y_train)"
   ]
  },
  {
   "cell_type": "code",
   "execution_count": 138,
   "metadata": {},
   "outputs": [],
   "source": [
    "y_pred_new = linreg.predict(X_test_new) "
   ]
  },
  {
   "cell_type": "code",
   "execution_count": 139,
   "metadata": {
    "scrolled": true
   },
   "outputs": [
    {
     "data": {
      "text/plain": [
       "0.41605492161512125"
      ]
     },
     "execution_count": 139,
     "metadata": {},
     "output_type": "execute_result"
    }
   ],
   "source": [
    "r2_score(y_test, y_pred_new)"
   ]
  },
  {
   "cell_type": "markdown",
   "metadata": {},
   "source": [
    "Метрика R2 на исходных и на преобразованных данных одинакова."
   ]
  }
 ],
 "metadata": {
  "ExecuteTimeLog": [
   {
    "duration": 486,
    "start_time": "2022-12-09T08:49:35.596Z"
   },
   {
    "duration": 121,
    "start_time": "2022-12-09T08:49:50.189Z"
   },
   {
    "duration": 15,
    "start_time": "2022-12-09T08:49:56.473Z"
   },
   {
    "duration": 13,
    "start_time": "2022-12-09T09:52:55.183Z"
   },
   {
    "duration": 32,
    "start_time": "2022-12-09T09:53:26.702Z"
   },
   {
    "duration": 6,
    "start_time": "2022-12-09T09:54:56.878Z"
   },
   {
    "duration": 6,
    "start_time": "2022-12-09T09:55:15.259Z"
   },
   {
    "duration": 7,
    "start_time": "2022-12-09T09:55:21.652Z"
   },
   {
    "duration": 57,
    "start_time": "2022-12-10T05:05:47.090Z"
   },
   {
    "duration": 437,
    "start_time": "2022-12-10T05:05:53.599Z"
   },
   {
    "duration": 134,
    "start_time": "2022-12-10T05:05:54.610Z"
   },
   {
    "duration": 7,
    "start_time": "2022-12-10T05:06:00.850Z"
   },
   {
    "duration": 4,
    "start_time": "2022-12-10T05:06:03.756Z"
   },
   {
    "duration": 4,
    "start_time": "2022-12-10T05:06:28.786Z"
   },
   {
    "duration": 7,
    "start_time": "2022-12-10T05:10:17.711Z"
   },
   {
    "duration": 3,
    "start_time": "2022-12-10T05:23:15.439Z"
   },
   {
    "duration": 29,
    "start_time": "2022-12-10T05:23:31.358Z"
   },
   {
    "duration": 726,
    "start_time": "2022-12-10T05:24:04.111Z"
   },
   {
    "duration": 49,
    "start_time": "2022-12-10T05:24:09.595Z"
   },
   {
    "duration": 3,
    "start_time": "2022-12-10T05:24:20.766Z"
   },
   {
    "duration": 12,
    "start_time": "2022-12-10T05:32:40.581Z"
   },
   {
    "duration": 4,
    "start_time": "2022-12-10T05:32:50.974Z"
   },
   {
    "duration": 3,
    "start_time": "2022-12-10T05:32:54.739Z"
   },
   {
    "duration": 25,
    "start_time": "2022-12-10T05:35:14.619Z"
   },
   {
    "duration": 14,
    "start_time": "2022-12-10T05:35:47.352Z"
   },
   {
    "duration": 7,
    "start_time": "2022-12-10T05:36:22.484Z"
   },
   {
    "duration": 5,
    "start_time": "2022-12-10T05:36:58.349Z"
   },
   {
    "duration": 10,
    "start_time": "2022-12-10T05:42:19.532Z"
   },
   {
    "duration": 27,
    "start_time": "2022-12-10T05:43:10.553Z"
   },
   {
    "duration": 3,
    "start_time": "2022-12-10T05:43:40.350Z"
   },
   {
    "duration": 7,
    "start_time": "2022-12-10T05:47:16.111Z"
   },
   {
    "duration": 4,
    "start_time": "2022-12-10T05:47:20.484Z"
   },
   {
    "duration": 12,
    "start_time": "2022-12-10T05:53:48.374Z"
   },
   {
    "duration": 4,
    "start_time": "2022-12-10T05:54:08.681Z"
   },
   {
    "duration": 47,
    "start_time": "2022-12-10T05:54:13.830Z"
   },
   {
    "duration": 16,
    "start_time": "2022-12-10T05:58:06.434Z"
   },
   {
    "duration": 19,
    "start_time": "2022-12-10T05:58:32.141Z"
   },
   {
    "duration": 7,
    "start_time": "2022-12-10T05:58:58.387Z"
   },
   {
    "duration": 4,
    "start_time": "2022-12-10T05:59:05.463Z"
   },
   {
    "duration": 11,
    "start_time": "2022-12-10T05:59:23.214Z"
   },
   {
    "duration": 6,
    "start_time": "2022-12-10T05:59:24.858Z"
   },
   {
    "duration": 17,
    "start_time": "2022-12-10T05:59:40.587Z"
   },
   {
    "duration": 9,
    "start_time": "2022-12-10T06:02:04.741Z"
   },
   {
    "duration": 15,
    "start_time": "2022-12-10T06:02:57.228Z"
   },
   {
    "duration": 3,
    "start_time": "2022-12-10T06:04:34.000Z"
   },
   {
    "duration": 57,
    "start_time": "2022-12-10T06:04:34.005Z"
   },
   {
    "duration": 10,
    "start_time": "2022-12-10T06:04:34.064Z"
   },
   {
    "duration": 21,
    "start_time": "2022-12-10T06:04:34.076Z"
   },
   {
    "duration": 31,
    "start_time": "2022-12-10T06:04:34.100Z"
   },
   {
    "duration": 22,
    "start_time": "2022-12-10T06:04:34.133Z"
   },
   {
    "duration": 16,
    "start_time": "2022-12-10T06:04:34.156Z"
   },
   {
    "duration": 17,
    "start_time": "2022-12-10T06:04:34.174Z"
   },
   {
    "duration": 5,
    "start_time": "2022-12-10T06:04:34.193Z"
   },
   {
    "duration": 6,
    "start_time": "2022-12-10T06:04:34.200Z"
   },
   {
    "duration": 23,
    "start_time": "2022-12-10T06:04:34.208Z"
   },
   {
    "duration": 7,
    "start_time": "2022-12-10T06:04:34.233Z"
   },
   {
    "duration": 7,
    "start_time": "2022-12-10T06:04:34.241Z"
   },
   {
    "duration": 8,
    "start_time": "2022-12-10T06:04:34.251Z"
   },
   {
    "duration": 13,
    "start_time": "2022-12-10T06:04:37.785Z"
   },
   {
    "duration": 3583,
    "start_time": "2022-12-10T06:07:10.582Z"
   },
   {
    "duration": 17,
    "start_time": "2022-12-10T06:07:23.468Z"
   },
   {
    "duration": 900,
    "start_time": "2022-12-10T06:07:45.830Z"
   },
   {
    "duration": 1121,
    "start_time": "2022-12-10T06:07:53.170Z"
   },
   {
    "duration": 2584,
    "start_time": "2022-12-10T06:08:33.605Z"
   },
   {
    "duration": 23,
    "start_time": "2022-12-10T06:08:39.384Z"
   },
   {
    "duration": 1556,
    "start_time": "2022-12-12T05:39:15.090Z"
   },
   {
    "duration": 29,
    "start_time": "2022-12-12T05:39:16.648Z"
   },
   {
    "duration": 20,
    "start_time": "2022-12-12T05:39:24.535Z"
   },
   {
    "duration": 12,
    "start_time": "2022-12-12T05:39:25.072Z"
   },
   {
    "duration": 24,
    "start_time": "2022-12-12T05:39:25.314Z"
   },
   {
    "duration": 6,
    "start_time": "2022-12-12T05:39:25.559Z"
   },
   {
    "duration": 5,
    "start_time": "2022-12-12T05:39:26.323Z"
   },
   {
    "duration": 3,
    "start_time": "2022-12-12T05:45:15.060Z"
   },
   {
    "duration": 4,
    "start_time": "2022-12-12T05:47:48.791Z"
   },
   {
    "duration": 3,
    "start_time": "2022-12-12T05:47:49.318Z"
   },
   {
    "duration": 5,
    "start_time": "2022-12-12T05:47:49.902Z"
   },
   {
    "duration": 4,
    "start_time": "2022-12-12T05:47:50.726Z"
   },
   {
    "duration": 3,
    "start_time": "2022-12-12T05:47:54.664Z"
   },
   {
    "duration": 6,
    "start_time": "2022-12-12T05:47:56.311Z"
   },
   {
    "duration": 89,
    "start_time": "2022-12-12T05:48:38.741Z"
   },
   {
    "duration": 4,
    "start_time": "2022-12-12T05:48:46.165Z"
   },
   {
    "duration": 3,
    "start_time": "2022-12-12T05:48:46.728Z"
   },
   {
    "duration": 5,
    "start_time": "2022-12-12T05:48:47.146Z"
   },
   {
    "duration": 3,
    "start_time": "2022-12-12T05:48:47.302Z"
   },
   {
    "duration": 3,
    "start_time": "2022-12-12T05:48:47.663Z"
   },
   {
    "duration": 5,
    "start_time": "2022-12-12T05:48:47.853Z"
   },
   {
    "duration": 10,
    "start_time": "2022-12-12T05:48:48.679Z"
   },
   {
    "duration": 9,
    "start_time": "2022-12-12T05:49:31.505Z"
   },
   {
    "duration": 1147,
    "start_time": "2022-12-14T09:21:02.301Z"
   },
   {
    "duration": 99,
    "start_time": "2022-12-14T09:21:03.450Z"
   },
   {
    "duration": 16,
    "start_time": "2022-12-14T09:21:03.551Z"
   },
   {
    "duration": 12,
    "start_time": "2022-12-14T09:21:03.568Z"
   },
   {
    "duration": 24,
    "start_time": "2022-12-14T09:21:03.583Z"
   },
   {
    "duration": 6,
    "start_time": "2022-12-14T09:21:03.608Z"
   },
   {
    "duration": 5,
    "start_time": "2022-12-14T09:21:07.899Z"
   },
   {
    "duration": 5,
    "start_time": "2022-12-14T09:21:09.487Z"
   },
   {
    "duration": 566,
    "start_time": "2022-12-14T09:22:12.456Z"
   },
   {
    "duration": 184,
    "start_time": "2022-12-14T09:22:46.365Z"
   },
   {
    "duration": 233,
    "start_time": "2022-12-14T09:22:58.035Z"
   },
   {
    "duration": 133,
    "start_time": "2022-12-14T09:23:01.772Z"
   },
   {
    "duration": 124,
    "start_time": "2022-12-14T09:23:05.112Z"
   },
   {
    "duration": 153,
    "start_time": "2022-12-14T09:23:45.981Z"
   },
   {
    "duration": 235,
    "start_time": "2022-12-14T09:23:51.120Z"
   },
   {
    "duration": 128,
    "start_time": "2022-12-14T09:24:22.524Z"
   },
   {
    "duration": 181,
    "start_time": "2022-12-14T09:25:47.177Z"
   },
   {
    "duration": 178,
    "start_time": "2022-12-14T09:27:05.825Z"
   },
   {
    "duration": 207,
    "start_time": "2022-12-14T09:27:12.662Z"
   },
   {
    "duration": 134,
    "start_time": "2022-12-14T09:27:22.588Z"
   },
   {
    "duration": 158,
    "start_time": "2022-12-14T09:27:28.802Z"
   },
   {
    "duration": 175,
    "start_time": "2022-12-14T09:27:43.339Z"
   },
   {
    "duration": 91,
    "start_time": "2022-12-14T09:29:04.943Z"
   },
   {
    "duration": 77,
    "start_time": "2022-12-14T09:29:29.088Z"
   },
   {
    "duration": 88,
    "start_time": "2022-12-14T09:29:33.717Z"
   },
   {
    "duration": 7,
    "start_time": "2022-12-14T09:32:42.693Z"
   },
   {
    "duration": 12,
    "start_time": "2022-12-14T09:33:34.194Z"
   },
   {
    "duration": 7,
    "start_time": "2022-12-14T09:34:11.596Z"
   },
   {
    "duration": 6,
    "start_time": "2022-12-14T09:34:17.924Z"
   },
   {
    "duration": 6,
    "start_time": "2022-12-14T09:34:28.859Z"
   },
   {
    "duration": 7,
    "start_time": "2022-12-14T09:34:45.623Z"
   },
   {
    "duration": 303,
    "start_time": "2022-12-14T09:36:56.561Z"
   },
   {
    "duration": 102,
    "start_time": "2022-12-14T09:37:58.843Z"
   },
   {
    "duration": 6,
    "start_time": "2022-12-14T09:52:50.452Z"
   },
   {
    "duration": 6,
    "start_time": "2022-12-14T09:58:13.413Z"
   },
   {
    "duration": 7,
    "start_time": "2022-12-14T09:58:32.136Z"
   },
   {
    "duration": 209,
    "start_time": "2022-12-14T10:00:01.816Z"
   },
   {
    "duration": 157,
    "start_time": "2022-12-14T10:01:26.303Z"
   },
   {
    "duration": 74,
    "start_time": "2022-12-14T10:02:48.233Z"
   },
   {
    "duration": 77,
    "start_time": "2022-12-14T10:06:51.010Z"
   },
   {
    "duration": 3,
    "start_time": "2022-12-14T10:09:57.112Z"
   },
   {
    "duration": 29,
    "start_time": "2022-12-14T10:09:57.125Z"
   },
   {
    "duration": 10,
    "start_time": "2022-12-14T10:09:57.156Z"
   },
   {
    "duration": 12,
    "start_time": "2022-12-14T10:09:57.192Z"
   },
   {
    "duration": 22,
    "start_time": "2022-12-14T10:09:57.206Z"
   },
   {
    "duration": 6,
    "start_time": "2022-12-14T10:09:57.230Z"
   },
   {
    "duration": 6,
    "start_time": "2022-12-14T10:09:57.238Z"
   },
   {
    "duration": 119,
    "start_time": "2022-12-14T10:09:57.246Z"
   },
   {
    "duration": 185,
    "start_time": "2022-12-14T10:09:57.367Z"
   },
   {
    "duration": 101,
    "start_time": "2022-12-14T10:09:57.554Z"
   },
   {
    "duration": 8,
    "start_time": "2022-12-14T10:09:57.657Z"
   },
   {
    "duration": 217,
    "start_time": "2022-12-14T10:09:57.667Z"
   },
   {
    "duration": 107,
    "start_time": "2022-12-14T10:09:57.886Z"
   },
   {
    "duration": 6,
    "start_time": "2022-12-14T10:09:57.995Z"
   },
   {
    "duration": 22,
    "start_time": "2022-12-14T10:09:58.003Z"
   },
   {
    "duration": 196,
    "start_time": "2022-12-14T10:09:58.027Z"
   },
   {
    "duration": 182,
    "start_time": "2022-12-14T10:09:58.225Z"
   },
   {
    "duration": 6,
    "start_time": "2022-12-14T10:10:04.124Z"
   },
   {
    "duration": 4,
    "start_time": "2022-12-14T10:10:27.970Z"
   },
   {
    "duration": 3,
    "start_time": "2022-12-14T10:10:29.294Z"
   },
   {
    "duration": 6,
    "start_time": "2022-12-14T10:10:30.151Z"
   },
   {
    "duration": 4,
    "start_time": "2022-12-14T10:10:30.552Z"
   },
   {
    "duration": 3,
    "start_time": "2022-12-14T10:10:34.090Z"
   },
   {
    "duration": 6,
    "start_time": "2022-12-14T10:10:34.813Z"
   },
   {
    "duration": 12,
    "start_time": "2022-12-14T10:10:38.919Z"
   },
   {
    "duration": 7737,
    "start_time": "2022-12-14T10:57:56.935Z"
   },
   {
    "duration": 105,
    "start_time": "2022-12-14T10:59:20.336Z"
   },
   {
    "duration": 16,
    "start_time": "2022-12-14T10:59:21.135Z"
   },
   {
    "duration": 215,
    "start_time": "2022-12-14T10:59:21.237Z"
   },
   {
    "duration": 297,
    "start_time": "2022-12-14T10:59:21.454Z"
   },
   {
    "duration": 17,
    "start_time": "2022-12-14T10:59:21.842Z"
   },
   {
    "duration": 300,
    "start_time": "2022-12-14T10:59:21.940Z"
   },
   {
    "duration": 698,
    "start_time": "2022-12-14T10:59:22.245Z"
   },
   {
    "duration": 1296,
    "start_time": "2022-12-14T10:59:22.946Z"
   },
   {
    "duration": 509,
    "start_time": "2022-12-14T10:59:24.244Z"
   },
   {
    "duration": 97,
    "start_time": "2022-12-14T10:59:24.837Z"
   },
   {
    "duration": 1302,
    "start_time": "2022-12-14T10:59:24.940Z"
   },
   {
    "duration": 913,
    "start_time": "2022-12-14T10:59:26.247Z"
   },
   {
    "duration": 78,
    "start_time": "2022-12-14T10:59:27.161Z"
   },
   {
    "duration": 97,
    "start_time": "2022-12-14T10:59:27.242Z"
   },
   {
    "duration": 1305,
    "start_time": "2022-12-14T10:59:27.340Z"
   },
   {
    "duration": 1104,
    "start_time": "2022-12-14T10:59:28.648Z"
   },
   {
    "duration": 7,
    "start_time": "2022-12-14T10:59:30.337Z"
   },
   {
    "duration": 8,
    "start_time": "2022-12-14T10:59:32.036Z"
   },
   {
    "duration": 6,
    "start_time": "2022-12-14T10:59:32.436Z"
   },
   {
    "duration": 9,
    "start_time": "2022-12-14T10:59:35.940Z"
   },
   {
    "duration": 89,
    "start_time": "2022-12-14T10:59:36.550Z"
   },
   {
    "duration": 8,
    "start_time": "2022-12-14T10:59:56.635Z"
   },
   {
    "duration": 15,
    "start_time": "2022-12-14T11:00:01.438Z"
   },
   {
    "duration": 620,
    "start_time": "2022-12-14T11:00:02.236Z"
   },
   {
    "duration": 11,
    "start_time": "2022-12-14T11:00:52.647Z"
   },
   {
    "duration": 17,
    "start_time": "2022-12-14T11:00:56.637Z"
   },
   {
    "duration": 100,
    "start_time": "2022-12-14T11:00:57.936Z"
   },
   {
    "duration": 12,
    "start_time": "2022-12-14T11:01:12.636Z"
   },
   {
    "duration": 90,
    "start_time": "2022-12-14T11:01:20.451Z"
   },
   {
    "duration": 8,
    "start_time": "2022-12-14T11:01:25.144Z"
   },
   {
    "duration": 12,
    "start_time": "2022-12-14T11:01:28.535Z"
   },
   {
    "duration": 12,
    "start_time": "2022-12-14T11:01:29.236Z"
   },
   {
    "duration": 87,
    "start_time": "2022-12-14T11:01:29.760Z"
   },
   {
    "duration": 10,
    "start_time": "2022-12-14T11:01:30.336Z"
   },
   {
    "duration": 118,
    "start_time": "2022-12-14T11:01:30.936Z"
   },
   {
    "duration": 25,
    "start_time": "2022-12-14T11:01:42.034Z"
   },
   {
    "duration": 81,
    "start_time": "2022-12-14T11:02:37.456Z"
   },
   {
    "duration": 51715,
    "start_time": "2022-12-14T11:07:02.736Z"
   },
   {
    "duration": 114,
    "start_time": "2022-12-14T11:08:04.736Z"
   },
   {
    "duration": 79,
    "start_time": "2022-12-14T11:08:30.559Z"
   },
   {
    "duration": 18,
    "start_time": "2022-12-14T11:08:37.837Z"
   }
  ],
  "kernelspec": {
   "display_name": "Python 3 (ipykernel)",
   "language": "python",
   "name": "python3"
  },
  "language_info": {
   "codemirror_mode": {
    "name": "ipython",
    "version": 3
   },
   "file_extension": ".py",
   "mimetype": "text/x-python",
   "name": "python",
   "nbconvert_exporter": "python",
   "pygments_lexer": "ipython3",
   "version": "3.9.12"
  },
  "toc": {
   "base_numbering": 1,
   "nav_menu": {},
   "number_sections": true,
   "sideBar": true,
   "skip_h1_title": true,
   "title_cell": "Содержание",
   "title_sidebar": "Contents",
   "toc_cell": true,
   "toc_position": {},
   "toc_section_display": true,
   "toc_window_display": true
  }
 },
 "nbformat": 4,
 "nbformat_minor": 2
}
